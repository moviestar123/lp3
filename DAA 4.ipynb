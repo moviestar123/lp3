{
 "cells": [
  {
   "cell_type": "code",
   "execution_count": null,
   "id": "feb5f605-038f-4b31-83d2-a9a19d3388da",
   "metadata": {},
   "outputs": [],
   "source": [
    "\"\"\" Write a program to solve a 0-1 Knapsack problem using dynamic programming or branch and\n",
    "bound strategy \"\"\"\n",
    "\n",
    "def knapsack(weights, values, capacity):\n",
    "    n = len(values)\n",
    "    dp = [[0 for _ in range(capacity + 1)] for _ in range(n + 1)]\n",
    "\n",
    "    for i in range(n + 1):\n",
    "        for w in range(capacity + 1):\n",
    "            if i == 0 or w == 0:\n",
    "                dp[i][w] = 0\n",
    "            elif weights[i-1] <= w:\n",
    "                dp[i][w] = max(values[i-1] + dp[i-1][w-weights[i-1]], dp[i-1][w])\n",
    "            else:\n",
    "                dp[i][w] = dp[i-1][w]\n",
    "\n",
    "    return dp[n][capacity]\n",
    "\n",
    "def main():\n",
    "    num_items = int(input(\"Enter the number of items: \"))\n",
    "    weights = []\n",
    "    values = []\n",
    "\n",
    "    for i in range(num_items):\n",
    "        weight = int(input(f\"Enter weight of item {i + 1}: \"))\n",
    "        value = int(input(f\"Enter value of item {i + 1}: \"))\n",
    "        weights.append(weight)\n",
    "        values.append(value)\n",
    "\n",
    "    capacity = int(input(\"Enter the knapsack capacity: \"))\n",
    "\n",
    "    max_value = knapsack(weights, values, capacity)\n",
    "\n",
    "    print(f\"Maximum value in the knapsack: {max_value}\")\n",
    "\n",
    "if __name__ == \"__main__\":\n",
    "    main()\n"
   ]
  }
 ],
 "metadata": {
  "kernelspec": {
   "display_name": "Python 3 (ipykernel)",
   "language": "python",
   "name": "python3"
  },
  "language_info": {
   "codemirror_mode": {
    "name": "ipython",
    "version": 3
   },
   "file_extension": ".py",
   "mimetype": "text/x-python",
   "name": "python",
   "nbconvert_exporter": "python",
   "pygments_lexer": "ipython3",
   "version": "3.10.11"
  }
 },
 "nbformat": 4,
 "nbformat_minor": 5
}
