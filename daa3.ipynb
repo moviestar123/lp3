{
 "cells": [
  {
   "cell_type": "code",
   "execution_count": 1,
   "id": "1f01c3a5-93df-4ab8-86de-e7ddc661110e",
   "metadata": {},
   "outputs": [
    {
     "name": "stdin",
     "output_type": "stream",
     "text": [
      "Enter the number of items:  3\n",
      "Enter weight of item 1:  30\n",
      "Enter value of item 1:  222\n",
      "Enter weight of item 2:  20\n",
      "Enter value of item 2:  444\n",
      "Enter weight of item 3:  10\n",
      "Enter value of item 3:  333\n",
      "Enter the knapsack capacity:  50\n"
     ]
    },
    {
     "name": "stdout",
     "output_type": "stream",
     "text": [
      "Fractions of each item to include in the knapsack:\n",
      "Item 1: 1.00\n",
      "Item 2: 1.00\n",
      "Item 3: 0.67\n",
      "Maximum profit: 925.00\n"
     ]
    }
   ],
   "source": [
    "def fractional_knapsack(capacity, weights, values):\n",
    "   \n",
    "    # Calculate the value-to-weight ratio for each item\n",
    "    ratios = [v / w for v, w in zip(values, weights)]\n",
    "\n",
    "    # Sort the items by their value-to-weight ratio in descending order\n",
    "    sorted_items = sorted(zip(ratios, weights, values), reverse=True)\n",
    "\n",
    "    # Initialize the result list with zeros\n",
    "    result = [0.0] * len(weights)\n",
    "\n",
    "    # Initialize the maximum profit\n",
    "    max_profit = 0.0\n",
    "\n",
    "    # Iterate over the sorted items\n",
    "    for i, (ratio, weight, value) in enumerate(sorted_items):\n",
    "        # If the item fits completely in the knapsack, include it\n",
    "        if weight <= capacity:\n",
    "            result[i] = 1.0\n",
    "            capacity -= weight\n",
    "            max_profit += value\n",
    "        # Otherwise, include a fraction of the item\n",
    "        else:\n",
    "            fraction = capacity / weight\n",
    "            result[i] = fraction\n",
    "            max_profit += value * fraction\n",
    "            break\n",
    "\n",
    "    return result, max_profit\n",
    "\n",
    "def main():\n",
    "    # Get user input\n",
    "    num_items = int(input(\"Enter the number of items: \"))\n",
    "    weights = []\n",
    "    values = []\n",
    "    for i in range(num_items):\n",
    "        weight = float(input(f\"Enter weight of item {i+1}: \"))\n",
    "        value = float(input(f\"Enter value of item {i+1}: \"))\n",
    "        weights.append(weight)\n",
    "        values.append(value)\n",
    "    capacity = float(input(\"Enter the knapsack capacity: \"))\n",
    "\n",
    "    # Solve the fractional knapsack problem\n",
    "    result, max_profit = fractional_knapsack(capacity, weights, values)\n",
    "\n",
    "    # Print the result\n",
    "    print(\"Fractions of each item to include in the knapsack:\")\n",
    "    for i, fraction in enumerate(result):\n",
    "        print(f\"Item {i+1}: {fraction:.2f}\")\n",
    "    print(f\"Maximum profit: {max_profit:.2f}\")\n",
    "\n",
    "if __name__ == \"__main__\":\n",
    "    main()\n"
   ]
  },
  {
   "cell_type": "code",
   "execution_count": null,
   "id": "2fcd31e8-b410-4ca7-a971-02d72f1e5957",
   "metadata": {},
   "outputs": [],
   "source": []
  }
 ],
 "metadata": {
  "kernelspec": {
   "display_name": "Python 3 (ipykernel)",
   "language": "python",
   "name": "python3"
  },
  "language_info": {
   "codemirror_mode": {
    "name": "ipython",
    "version": 3
   },
   "file_extension": ".py",
   "mimetype": "text/x-python",
   "name": "python",
   "nbconvert_exporter": "python",
   "pygments_lexer": "ipython3",
   "version": "3.12.3"
  }
 },
 "nbformat": 4,
 "nbformat_minor": 5
}
